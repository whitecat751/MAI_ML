{
  "nbformat": 4,
  "nbformat_minor": 0,
  "metadata": {
    "colab": {
      "name": "Project_p1_2.ipynb",
      "provenance": [],
      "collapsed_sections": []
    },
    "kernelspec": {
      "name": "python3",
      "display_name": "Python 3"
    }
  },
  "cells": [
    {
      "cell_type": "code",
      "metadata": {
        "colab": {
          "base_uri": "https://localhost:8080/"
        },
        "id": "tNB7EpAuFA9g",
        "outputId": "cb4ac045-d6b4-42a7-f14d-e80a0b269df8"
      },
      "source": [
        "! wget https://archive.ics.uci.edu/ml/machine-learning-databases/arrhythmia/arrhythmia.data\r\n",
        "! wget https://archive.ics.uci.edu/ml/machine-learning-databases/arrhythmia/arrhythmia.names"
      ],
      "execution_count": 1,
      "outputs": [
        {
          "output_type": "stream",
          "text": [
            "--2020-12-25 12:17:21--  https://archive.ics.uci.edu/ml/machine-learning-databases/arrhythmia/arrhythmia.data\n",
            "Resolving archive.ics.uci.edu (archive.ics.uci.edu)... 128.195.10.252\n",
            "Connecting to archive.ics.uci.edu (archive.ics.uci.edu)|128.195.10.252|:443... connected.\n",
            "HTTP request sent, awaiting response... 200 OK\n",
            "Length: 402355 (393K) [application/x-httpd-php]\n",
            "Saving to: ‘arrhythmia.data’\n",
            "\n",
            "arrhythmia.data     100%[===================>] 392.92K  --.-KB/s    in 0.1s    \n",
            "\n",
            "2020-12-25 12:17:21 (2.72 MB/s) - ‘arrhythmia.data’ saved [402355/402355]\n",
            "\n",
            "--2020-12-25 12:17:21--  https://archive.ics.uci.edu/ml/machine-learning-databases/arrhythmia/arrhythmia.names\n",
            "Resolving archive.ics.uci.edu (archive.ics.uci.edu)... 128.195.10.252\n",
            "Connecting to archive.ics.uci.edu (archive.ics.uci.edu)|128.195.10.252|:443... connected.\n",
            "HTTP request sent, awaiting response... 200 OK\n",
            "Length: 6162 (6.0K) [application/x-httpd-php]\n",
            "Saving to: ‘arrhythmia.names’\n",
            "\n",
            "arrhythmia.names    100%[===================>]   6.02K  --.-KB/s    in 0s      \n",
            "\n",
            "2020-12-25 12:17:22 (135 MB/s) - ‘arrhythmia.names’ saved [6162/6162]\n",
            "\n"
          ],
          "name": "stdout"
        }
      ]
    },
    {
      "cell_type": "code",
      "metadata": {
        "colab": {
          "base_uri": "https://localhost:8080/"
        },
        "id": "mI9xUFxBxd1P",
        "outputId": "5ca7f99e-62b9-488e-ed2d-3e6d753e893a"
      },
      "source": [
        "!pip install -U imbalanced-learn"
      ],
      "execution_count": 2,
      "outputs": [
        {
          "output_type": "stream",
          "text": [
            "Collecting imbalanced-learn\n",
            "\u001b[?25l  Downloading https://files.pythonhosted.org/packages/c8/81/8db4d87b03b998fda7c6f835d807c9ae4e3b141f978597b8d7f31600be15/imbalanced_learn-0.7.0-py3-none-any.whl (167kB)\n",
            "\u001b[K     |████████████████████████████████| 174kB 8.9MB/s \n",
            "\u001b[?25hCollecting scikit-learn>=0.23\n",
            "\u001b[?25l  Downloading https://files.pythonhosted.org/packages/30/aa/db462d385c56905b731403885454188683f63c86ea68900f6f7e7558b5fa/scikit_learn-0.24.0-cp36-cp36m-manylinux2010_x86_64.whl (22.2MB)\n",
            "\u001b[K     |████████████████████████████████| 22.2MB 60.5MB/s \n",
            "\u001b[?25hRequirement already satisfied, skipping upgrade: scipy>=0.19.1 in /usr/local/lib/python3.6/dist-packages (from imbalanced-learn) (1.4.1)\n",
            "Requirement already satisfied, skipping upgrade: numpy>=1.13.3 in /usr/local/lib/python3.6/dist-packages (from imbalanced-learn) (1.19.4)\n",
            "Requirement already satisfied, skipping upgrade: joblib>=0.11 in /usr/local/lib/python3.6/dist-packages (from imbalanced-learn) (1.0.0)\n",
            "Collecting threadpoolctl>=2.0.0\n",
            "  Downloading https://files.pythonhosted.org/packages/f7/12/ec3f2e203afa394a149911729357aa48affc59c20e2c1c8297a60f33f133/threadpoolctl-2.1.0-py3-none-any.whl\n",
            "Installing collected packages: threadpoolctl, scikit-learn, imbalanced-learn\n",
            "  Found existing installation: scikit-learn 0.22.2.post1\n",
            "    Uninstalling scikit-learn-0.22.2.post1:\n",
            "      Successfully uninstalled scikit-learn-0.22.2.post1\n",
            "  Found existing installation: imbalanced-learn 0.4.3\n",
            "    Uninstalling imbalanced-learn-0.4.3:\n",
            "      Successfully uninstalled imbalanced-learn-0.4.3\n",
            "Successfully installed imbalanced-learn-0.7.0 scikit-learn-0.24.0 threadpoolctl-2.1.0\n"
          ],
          "name": "stdout"
        }
      ]
    },
    {
      "cell_type": "code",
      "metadata": {
        "id": "u293Pehfasvf"
      },
      "source": [
        "import pandas as pd\n",
        "import numpy as np\n",
        "import re\n",
        "import matplotlib.pyplot as plt \n",
        "from matplotlib import rcParams\n",
        "matplotlib_style = 'fivethirtyeight'\n",
        "plt.style.use(matplotlib_style)\n",
        "rcParams['figure.figsize'] = (12, 8)\n",
        "np.set_printoptions(linewidth=180)\n",
        "\n",
        "from sklearn.pipeline import Pipeline\n",
        "from sklearn.preprocessing import OneHotEncoder\n",
        "from sklearn.preprocessing import StandardScaler\n",
        "from sklearn.compose import ColumnTransformer\n",
        "from sklearn.impute import SimpleImputer\n",
        "\n",
        "from sklearn.model_selection import train_test_split\n",
        "from sklearn.model_selection import KFold\n",
        "from sklearn.neighbors import KNeighborsClassifier\n",
        "from sklearn.model_selection import cross_val_score\n",
        "from imblearn.over_sampling import ADASYN, RandomOverSampler\n",
        "from collections import Counter\n",
        "from sklearn.metrics import accuracy_score, precision_score, recall_score, f1_score\n",
        "from sklearn.svm import SVC\n",
        "from sklearn.tree import DecisionTreeClassifier\n",
        "from sklearn.ensemble import GradientBoostingClassifier, RandomForestClassifier\n",
        "\n",
        "from sklearn.decomposition import TruncatedSVD\n",
        "from sklearn.model_selection import GridSearchCV\n",
        "from sklearn.pipeline import Pipeline"
      ],
      "execution_count": 3,
      "outputs": []
    },
    {
      "cell_type": "code",
      "metadata": {
        "id": "ecbjLLq7cInz"
      },
      "source": [
        "with open('arrhythmia.names', 'r') as file:\n",
        "    names = file.readlines()\n",
        "    \n",
        "attridute_idx_start = names.index('7. Attribute Information:\\n')\n",
        "attridute_idx_end = names.index(\"8. Missing Attribute Values: Several.  Distinguished with '?'.\\n\")\n",
        "class_idx_start = names.index('9. Class Distribution:\\n')\n",
        "\n",
        "str_list = [list(filter(None, line.strip().split(sep='\\t')))for line in names[class_idx_start+3:-1]]"
      ],
      "execution_count": 4,
      "outputs": []
    },
    {
      "cell_type": "code",
      "metadata": {
        "id": "KBhnpqTFJkqS"
      },
      "source": [
        "data_words = re.compile(r\"\\s{2,}\")\r\n",
        "\r\n",
        "def class_dist_preper(str_):\r\n",
        "    ans = data_words.split(str_[0])\r\n",
        "    if len(str_) > 1: \r\n",
        "       ans.append(str_[1].strip())\r\n",
        "    return ans\r\n"
      ],
      "execution_count": 5,
      "outputs": []
    },
    {
      "cell_type": "code",
      "metadata": {
        "colab": {
          "base_uri": "https://localhost:8080/"
        },
        "id": "S9PdvjxkHDOo",
        "outputId": "12f51fd3-f3c1-4255-a10d-d6cb04431ab1"
      },
      "source": [
        "col_names = re.findall(r'(\\w+\\s?.+?\\s?:)+', str_list[0][0])\r\n",
        "col_names"
      ],
      "execution_count": 6,
      "outputs": [
        {
          "output_type": "execute_result",
          "data": {
            "text/plain": [
              "['Class code :', 'Class   :', 'Number of instances:']"
            ]
          },
          "metadata": {
            "tags": []
          },
          "execution_count": 6
        }
      ]
    },
    {
      "cell_type": "code",
      "metadata": {
        "colab": {
          "base_uri": "https://localhost:8080/",
          "height": 545
        },
        "id": "-BM3VM8tkb03",
        "outputId": "fcf03a8a-862c-4cfc-89be-858c04fbaf94"
      },
      "source": [
        "ground_true_class_dist = pd.DataFrame(list(map(class_dist_preper, str_list[1:])), columns=col_names)\n",
        "ground_true_class_dist"
      ],
      "execution_count": 7,
      "outputs": [
        {
          "output_type": "execute_result",
          "data": {
            "text/html": [
              "<div>\n",
              "<style scoped>\n",
              "    .dataframe tbody tr th:only-of-type {\n",
              "        vertical-align: middle;\n",
              "    }\n",
              "\n",
              "    .dataframe tbody tr th {\n",
              "        vertical-align: top;\n",
              "    }\n",
              "\n",
              "    .dataframe thead th {\n",
              "        text-align: right;\n",
              "    }\n",
              "</style>\n",
              "<table border=\"1\" class=\"dataframe\">\n",
              "  <thead>\n",
              "    <tr style=\"text-align: right;\">\n",
              "      <th></th>\n",
              "      <th>Class code :</th>\n",
              "      <th>Class   :</th>\n",
              "      <th>Number of instances:</th>\n",
              "    </tr>\n",
              "  </thead>\n",
              "  <tbody>\n",
              "    <tr>\n",
              "      <th>0</th>\n",
              "      <td>01</td>\n",
              "      <td>Normal</td>\n",
              "      <td>245</td>\n",
              "    </tr>\n",
              "    <tr>\n",
              "      <th>1</th>\n",
              "      <td>02</td>\n",
              "      <td>Ischemic changes (Coronary Artery Disease)</td>\n",
              "      <td>44</td>\n",
              "    </tr>\n",
              "    <tr>\n",
              "      <th>2</th>\n",
              "      <td>03</td>\n",
              "      <td>Old Anterior Myocardial Infarction</td>\n",
              "      <td>15</td>\n",
              "    </tr>\n",
              "    <tr>\n",
              "      <th>3</th>\n",
              "      <td>04</td>\n",
              "      <td>Old Inferior Myocardial Infarction</td>\n",
              "      <td>15</td>\n",
              "    </tr>\n",
              "    <tr>\n",
              "      <th>4</th>\n",
              "      <td>05</td>\n",
              "      <td>Sinus tachycardy</td>\n",
              "      <td>13</td>\n",
              "    </tr>\n",
              "    <tr>\n",
              "      <th>5</th>\n",
              "      <td>06</td>\n",
              "      <td>Sinus bradycardy</td>\n",
              "      <td>25</td>\n",
              "    </tr>\n",
              "    <tr>\n",
              "      <th>6</th>\n",
              "      <td>07</td>\n",
              "      <td>Ventricular Premature Contraction (PVC)</td>\n",
              "      <td>3</td>\n",
              "    </tr>\n",
              "    <tr>\n",
              "      <th>7</th>\n",
              "      <td>08</td>\n",
              "      <td>Supraventricular Premature Contraction</td>\n",
              "      <td>2</td>\n",
              "    </tr>\n",
              "    <tr>\n",
              "      <th>8</th>\n",
              "      <td>09</td>\n",
              "      <td>Left bundle branch block</td>\n",
              "      <td>9</td>\n",
              "    </tr>\n",
              "    <tr>\n",
              "      <th>9</th>\n",
              "      <td>10</td>\n",
              "      <td>Right bundle branch block</td>\n",
              "      <td>50</td>\n",
              "    </tr>\n",
              "    <tr>\n",
              "      <th>10</th>\n",
              "      <td>11</td>\n",
              "      <td>1. degree AtrioVentricular block</td>\n",
              "      <td>0</td>\n",
              "    </tr>\n",
              "    <tr>\n",
              "      <th>11</th>\n",
              "      <td>12</td>\n",
              "      <td>2. degree AV block</td>\n",
              "      <td>0</td>\n",
              "    </tr>\n",
              "    <tr>\n",
              "      <th>12</th>\n",
              "      <td>13</td>\n",
              "      <td>3. degree AV block</td>\n",
              "      <td>0</td>\n",
              "    </tr>\n",
              "    <tr>\n",
              "      <th>13</th>\n",
              "      <td>14</td>\n",
              "      <td>Left ventricule hypertrophy</td>\n",
              "      <td>4</td>\n",
              "    </tr>\n",
              "    <tr>\n",
              "      <th>14</th>\n",
              "      <td>15</td>\n",
              "      <td>Atrial Fibrillation or Flutter</td>\n",
              "      <td>5</td>\n",
              "    </tr>\n",
              "    <tr>\n",
              "      <th>15</th>\n",
              "      <td>16</td>\n",
              "      <td>Others</td>\n",
              "      <td>22</td>\n",
              "    </tr>\n",
              "  </tbody>\n",
              "</table>\n",
              "</div>"
            ],
            "text/plain": [
              "   Class code :  ... Number of instances:\n",
              "0            01  ...                  245\n",
              "1            02  ...                   44\n",
              "2            03  ...                   15\n",
              "3            04  ...                   15\n",
              "4            05  ...                   13\n",
              "5            06  ...                   25\n",
              "6            07  ...                    3\n",
              "7            08  ...                    2\n",
              "8            09  ...                    9\n",
              "9            10  ...                   50\n",
              "10           11  ...                    0\n",
              "11           12  ...                    0\n",
              "12           13  ...                    0\n",
              "13           14  ...                    4\n",
              "14           15  ...                    5\n",
              "15           16  ...                   22\n",
              "\n",
              "[16 rows x 3 columns]"
            ]
          },
          "metadata": {
            "tags": []
          },
          "execution_count": 7
        }
      ]
    },
    {
      "cell_type": "code",
      "metadata": {
        "id": "jzl68cbbLMHD"
      },
      "source": [
        "text_spliter = re.compile(r',|:')\r\n",
        "digit_extactor = re.compile(r'\\d+')\r\n",
        "def line_prep(arr):\r\n",
        "    ans = re.split(text_spliter, arr)\r\n",
        "    f_num = re.findall(digit_extactor, ans[0])\r\n",
        "    f_num.append(re.sub(digit_extactor, '', ans[0], ))\r\n",
        "    f_num.extend(ans[1:])\r\n",
        "\r\n",
        "    return f_num \r\n"
      ],
      "execution_count": 8,
      "outputs": []
    },
    {
      "cell_type": "code",
      "metadata": {
        "id": "nbTed_fRlguE"
      },
      "source": [
        "cols = list(filter(None, [str_.strip() for str_ in names[attridute_idx_start + 2:attridute_idx_end]]))"
      ],
      "execution_count": 9,
      "outputs": []
    },
    {
      "cell_type": "code",
      "metadata": {
        "id": "Hz09aHlvb4LF"
      },
      "source": [
        "vector_idx = cols.index([name for name in cols if name.startswith('Vector')][0])\r\n",
        "end_idx = cols.index([name for name in cols if name.startswith('15')][0])\r\n",
        "cols[vector_idx + 1:end_idx] = [' '.join([line + ':', cols[vector_idx]]) for line in cols[vector_idx + 1:end_idx]]"
      ],
      "execution_count": 10,
      "outputs": []
    },
    {
      "cell_type": "code",
      "metadata": {
        "id": "k9SKKYT9b4Gt"
      },
      "source": [
        "start_idx = cols.index([name for name in cols if name.startswith('Average')][0])\r\n",
        "end_idx = cols.index([name for name in cols if name.startswith('21')][0])\r\n",
        "cols[start_idx + 1:end_idx] = [' '.join([line + ':', cols[start_idx]]) for line in cols[start_idx + 1:end_idx]]"
      ],
      "execution_count": 11,
      "outputs": []
    },
    {
      "cell_type": "code",
      "metadata": {
        "id": "mczXnUOvlgxz"
      },
      "source": [
        "template = np.empty((12, 4),dtype='object')"
      ],
      "execution_count": 12,
      "outputs": []
    },
    {
      "cell_type": "code",
      "metadata": {
        "id": "FclGU0JosoUu"
      },
      "source": [
        "start_idx = cols.index([name for name in cols if name.startswith('16')][0])\r\n",
        "end_idx = cols.index([name for name in cols if name.startswith('27')][0])\r\n",
        "for i, line in enumerate(cols[start_idx:end_idx + 1]):\r\n",
        "    x = line_prep(line)\r\n",
        "    if len(x) > 4:\r\n",
        "        template[i, :2] = x[:2]\r\n",
        "        template[i, 2:-1] =  ' '.join(x[2:-1])\r\n",
        "        template[i, -1] = x[-1]\r\n",
        "    else:\r\n",
        "        template[i, 0] = x[0]\r\n",
        "        template[i, 2:] = x[1:]\r\n"
      ],
      "execution_count": 13,
      "outputs": []
    },
    {
      "cell_type": "code",
      "metadata": {
        "id": "nmxiTKRIs-Bn"
      },
      "source": [
        "template1 = np.empty((10, 4), dtype='object')\r\n",
        "\r\n",
        "start_idx = cols.index([name for name in cols if name.startswith('160')][0])\r\n",
        "end_idx = cols.index([name for name in cols if name.startswith('168')][0])\r\n",
        "\r\n",
        "for i, line in enumerate(cols[start_idx : end_idx]):\r\n",
        "    x = line.split()\r\n",
        "    x1, x2 = x.pop(1), x.pop(1)\r\n",
        "    name = ' '.join([x1, x2])\r\n",
        "    disc = ' '.join([cols[start_idx - 1], name])\r\n",
        "    x.insert(1, name)\r\n",
        "    x.insert(2, disc)\r\n",
        "    template1[i, :] = np.array(x)\r\n",
        "\r\n",
        "start_idx = cols.index([name for name in cols if name.startswith('168')][0])\r\n",
        "end_idx = cols.index([name for name in cols if name.startswith('169')][0]) \r\n",
        "\r\n",
        "str_1 = re.sub(r', \\(', ' ', ' '.join(cols[start_idx:end_idx]))\r\n",
        "str2 = re.sub(r' =', ':', ' '.join(cols[end_idx:end_idx + 3]))\r\n",
        "cols[start_idx] = re.sub(r', \\(', ' ', ' '.join(cols[start_idx:end_idx]))\r\n",
        "cols[end_idx] = re.sub(r' =', ':', ' '.join(cols[end_idx:end_idx + 3]))\r\n",
        "\r\n",
        "template1[8,:] = np.array(line_prep(str_1))\r\n",
        "template1[9,:] = np.array(line_prep(str2))\r\n"
      ],
      "execution_count": 14,
      "outputs": []
    },
    {
      "cell_type": "code",
      "metadata": {
        "id": "Worgronps99D"
      },
      "source": [
        "template[:,0] = template[:,0].astype(np.int16)\r\n",
        "template1[:,0] = template1[:,0].astype(np.int16)\r\n"
      ],
      "execution_count": 15,
      "outputs": []
    },
    {
      "cell_type": "code",
      "metadata": {
        "id": "55vWrfb8uciY"
      },
      "source": [
        "common_cols = [name for name in cols if name[0].isdigit()  and '..' in name]\r\n",
        "common_cols[0] = re.split(r'\\(', common_cols[0])[0]"
      ],
      "execution_count": 16,
      "outputs": []
    },
    {
      "cell_type": "code",
      "metadata": {
        "id": "hgiBXKHFu7IN"
      },
      "source": [
        "arr_list = []\r\n",
        "for i, col in enumerate(common_cols):\r\n",
        "    x = list(map(int, re.findall(r'\\d+', col)))\r\n",
        "    col_muns = np.arange(x[0], x[1]+1)\r\n",
        "\r\n",
        "    arr_i = template1.copy() if x[1] > 160 else template.copy()\r\n",
        "    arr_i[:, 0] = col_muns\r\n",
        "    arr_list.append(arr_i)\r\n",
        "    \r\n",
        "arr1 = np.vstack(arr_list)"
      ],
      "execution_count": 17,
      "outputs": []
    },
    {
      "cell_type": "code",
      "metadata": {
        "id": "wpHa4LL6u-Z2"
      },
      "source": [
        "arr0 = np.empty((15, 4), dtype='object')\r\n",
        "end_idx = cols.index([name for name in cols if name.startswith('15')][0]) +1\r\n",
        "x = list(map(line_prep, cols[:end_idx])) \r\n",
        "for i, line in enumerate(x):\r\n",
        "    line = list(filter(None, line))\r\n",
        "    if line[0] in ['6', '7']:\r\n",
        "        line[:2].extend(' '.join([line[-1], x[i+1][0]]))\r\n",
        "        line.append(x[i+1][1])\r\n",
        "        arr0[int(line[0])-1, :] = np.array(line)\r\n",
        "    elif line[0].isdigit():\r\n",
        "        arr0[int(line[0])-1, :] = np.array(line)\r\n",
        "     \r\n",
        "arr0[:,0] = arr0[:,0].astype(np.int16)"
      ],
      "execution_count": 18,
      "outputs": []
    },
    {
      "cell_type": "code",
      "metadata": {
        "colab": {
          "base_uri": "https://localhost:8080/"
        },
        "id": "JXCVXDs0vSU5",
        "outputId": "90530ccb-f4bf-4e7c-81ff-9e52fef868f6"
      },
      "source": [
        "f = lambda x: x.strip()\r\n",
        "vf = np.vectorize(f)\r\n",
        "\r\n",
        "total_info = np.vstack([arr0, template, arr1, template1])\r\n",
        "total_info[:, 0] = total_info[:, 0] -1\r\n",
        "total_info  = total_info[total_info[:,0].argsort()]\r\n",
        "\r\n",
        "total_info[:, 1] = ['feature_' + str(i) for i in range(total_info.shape[0])]\r\n",
        "\r\n",
        "total_info[:, -1] = vf(total_info[:, -1])\r\n",
        "\r\n",
        "total_info.shape"
      ],
      "execution_count": 19,
      "outputs": [
        {
          "output_type": "execute_result",
          "data": {
            "text/plain": [
              "(279, 4)"
            ]
          },
          "metadata": {
            "tags": []
          },
          "execution_count": 19
        }
      ]
    },
    {
      "cell_type": "code",
      "metadata": {
        "colab": {
          "base_uri": "https://localhost:8080/",
          "height": 536
        },
        "id": "REEGlF9Tv4yh",
        "outputId": "9f2d6657-e30e-4317-d227-70167da9dd5b"
      },
      "source": [
        "val, count = np.unique(total_info[:-1, -1], return_counts=True)\r\n",
        "plt.bar(val, count, color=['g', 'r']);\r\n",
        "plt.title(\"linear features vs nominal features\")\r\n",
        "plt.ylabel(\"samples ##\");"
      ],
      "execution_count": 20,
      "outputs": [
        {
          "output_type": "display_data",
          "data": {
            "image/png": "[encoded data removed]",
            "text/plain": [
              "<Figure size 864x576 with 1 Axes>"
            ]
          },
          "metadata": {
            "tags": []
          }
        }
      ]
    },
    {
      "cell_type": "code",
      "metadata": {
        "colab": {
          "base_uri": "https://localhost:8080/",
          "height": 238
        },
        "id": "eU3K2uPFL3b-",
        "outputId": "91a1de1b-4308-430a-f452-ad3abccaae3a"
      },
      "source": [
        "names=total_info[:,1].tolist()\r\n",
        "names.append('target')\r\n",
        "data = pd.read_csv('arrhythmia.data', header=None, index_col=None, names=names)\r\n",
        "data.head()"
      ],
      "execution_count": 21,
      "outputs": [
        {
          "output_type": "execute_result",
          "data": {
            "text/html": [
              "<div>\n",
              "<style scoped>\n",
              "    .dataframe tbody tr th:only-of-type {\n",
              "        vertical-align: middle;\n",
              "    }\n",
              "\n",
              "    .dataframe tbody tr th {\n",
              "        vertical-align: top;\n",
              "    }\n",
              "\n",
              "    .dataframe thead th {\n",
              "        text-align: right;\n",
              "    }\n",
              "</style>\n",
              "<table border=\"1\" class=\"dataframe\">\n",
              "  <thead>\n",
              "    <tr style=\"text-align: right;\">\n",
              "      <th></th>\n",
              "      <th>feature_0</th>\n",
              "      <th>feature_1</th>\n",
              "      <th>feature_2</th>\n",
              "      <th>feature_3</th>\n",
              "      <th>feature_4</th>\n",
              "      <th>feature_5</th>\n",
              "      <th>feature_6</th>\n",
              "      <th>feature_7</th>\n",
              "      <th>feature_8</th>\n",
              "      <th>feature_9</th>\n",
              "      <th>feature_10</th>\n",
              "      <th>feature_11</th>\n",
              "      <th>feature_12</th>\n",
              "      <th>feature_13</th>\n",
              "      <th>feature_14</th>\n",
              "      <th>feature_15</th>\n",
              "      <th>feature_16</th>\n",
              "      <th>feature_17</th>\n",
              "      <th>feature_18</th>\n",
              "      <th>feature_19</th>\n",
              "      <th>feature_20</th>\n",
              "      <th>feature_21</th>\n",
              "      <th>feature_22</th>\n",
              "      <th>feature_23</th>\n",
              "      <th>feature_24</th>\n",
              "      <th>feature_25</th>\n",
              "      <th>feature_26</th>\n",
              "      <th>feature_27</th>\n",
              "      <th>feature_28</th>\n",
              "      <th>feature_29</th>\n",
              "      <th>feature_30</th>\n",
              "      <th>feature_31</th>\n",
              "      <th>feature_32</th>\n",
              "      <th>feature_33</th>\n",
              "      <th>feature_34</th>\n",
              "      <th>feature_35</th>\n",
              "      <th>feature_36</th>\n",
              "      <th>feature_37</th>\n",
              "      <th>feature_38</th>\n",
              "      <th>feature_39</th>\n",
              "      <th>...</th>\n",
              "      <th>feature_240</th>\n",
              "      <th>feature_241</th>\n",
              "      <th>feature_242</th>\n",
              "      <th>feature_243</th>\n",
              "      <th>feature_244</th>\n",
              "      <th>feature_245</th>\n",
              "      <th>feature_246</th>\n",
              "      <th>feature_247</th>\n",
              "      <th>feature_248</th>\n",
              "      <th>feature_249</th>\n",
              "      <th>feature_250</th>\n",
              "      <th>feature_251</th>\n",
              "      <th>feature_252</th>\n",
              "      <th>feature_253</th>\n",
              "      <th>feature_254</th>\n",
              "      <th>feature_255</th>\n",
              "      <th>feature_256</th>\n",
              "      <th>feature_257</th>\n",
              "      <th>feature_258</th>\n",
              "      <th>feature_259</th>\n",
              "      <th>feature_260</th>\n",
              "      <th>feature_261</th>\n",
              "      <th>feature_262</th>\n",
              "      <th>feature_263</th>\n",
              "      <th>feature_264</th>\n",
              "      <th>feature_265</th>\n",
              "      <th>feature_266</th>\n",
              "      <th>feature_267</th>\n",
              "      <th>feature_268</th>\n",
              "      <th>feature_269</th>\n",
              "      <th>feature_270</th>\n",
              "      <th>feature_271</th>\n",
              "      <th>feature_272</th>\n",
              "      <th>feature_273</th>\n",
              "      <th>feature_274</th>\n",
              "      <th>feature_275</th>\n",
              "      <th>feature_276</th>\n",
              "      <th>feature_277</th>\n",
              "      <th>feature_278</th>\n",
              "      <th>target</th>\n",
              "    </tr>\n",
              "  </thead>\n",
              "  <tbody>\n",
              "    <tr>\n",
              "      <th>0</th>\n",
              "      <td>75</td>\n",
              "      <td>0</td>\n",
              "      <td>190</td>\n",
              "      <td>80</td>\n",
              "      <td>91</td>\n",
              "      <td>193</td>\n",
              "      <td>371</td>\n",
              "      <td>174</td>\n",
              "      <td>121</td>\n",
              "      <td>-16</td>\n",
              "      <td>13</td>\n",
              "      <td>64</td>\n",
              "      <td>-2</td>\n",
              "      <td>?</td>\n",
              "      <td>63</td>\n",
              "      <td>0</td>\n",
              "      <td>52</td>\n",
              "      <td>44</td>\n",
              "      <td>0</td>\n",
              "      <td>0</td>\n",
              "      <td>32</td>\n",
              "      <td>0</td>\n",
              "      <td>0</td>\n",
              "      <td>0</td>\n",
              "      <td>0</td>\n",
              "      <td>0</td>\n",
              "      <td>0</td>\n",
              "      <td>0</td>\n",
              "      <td>44</td>\n",
              "      <td>20</td>\n",
              "      <td>36</td>\n",
              "      <td>0</td>\n",
              "      <td>28</td>\n",
              "      <td>0</td>\n",
              "      <td>0</td>\n",
              "      <td>0</td>\n",
              "      <td>0</td>\n",
              "      <td>0</td>\n",
              "      <td>0</td>\n",
              "      <td>52</td>\n",
              "      <td>...</td>\n",
              "      <td>0.0</td>\n",
              "      <td>8.4</td>\n",
              "      <td>-10.0</td>\n",
              "      <td>0.0</td>\n",
              "      <td>0.0</td>\n",
              "      <td>0.6</td>\n",
              "      <td>5.9</td>\n",
              "      <td>-3.9</td>\n",
              "      <td>52.7</td>\n",
              "      <td>-0.3</td>\n",
              "      <td>0.0</td>\n",
              "      <td>15.2</td>\n",
              "      <td>-8.4</td>\n",
              "      <td>0.0</td>\n",
              "      <td>0.0</td>\n",
              "      <td>0.9</td>\n",
              "      <td>5.1</td>\n",
              "      <td>17.7</td>\n",
              "      <td>70.7</td>\n",
              "      <td>-0.4</td>\n",
              "      <td>0.0</td>\n",
              "      <td>13.5</td>\n",
              "      <td>-4.0</td>\n",
              "      <td>0.0</td>\n",
              "      <td>0.0</td>\n",
              "      <td>0.9</td>\n",
              "      <td>3.9</td>\n",
              "      <td>25.5</td>\n",
              "      <td>62.9</td>\n",
              "      <td>-0.3</td>\n",
              "      <td>0.0</td>\n",
              "      <td>9.0</td>\n",
              "      <td>-0.9</td>\n",
              "      <td>0.0</td>\n",
              "      <td>0.0</td>\n",
              "      <td>0.9</td>\n",
              "      <td>2.9</td>\n",
              "      <td>23.3</td>\n",
              "      <td>49.4</td>\n",
              "      <td>8</td>\n",
              "    </tr>\n",
              "    <tr>\n",
              "      <th>1</th>\n",
              "      <td>56</td>\n",
              "      <td>1</td>\n",
              "      <td>165</td>\n",
              "      <td>64</td>\n",
              "      <td>81</td>\n",
              "      <td>174</td>\n",
              "      <td>401</td>\n",
              "      <td>149</td>\n",
              "      <td>39</td>\n",
              "      <td>25</td>\n",
              "      <td>37</td>\n",
              "      <td>-17</td>\n",
              "      <td>31</td>\n",
              "      <td>?</td>\n",
              "      <td>53</td>\n",
              "      <td>0</td>\n",
              "      <td>48</td>\n",
              "      <td>0</td>\n",
              "      <td>0</td>\n",
              "      <td>0</td>\n",
              "      <td>24</td>\n",
              "      <td>0</td>\n",
              "      <td>0</td>\n",
              "      <td>0</td>\n",
              "      <td>0</td>\n",
              "      <td>0</td>\n",
              "      <td>0</td>\n",
              "      <td>0</td>\n",
              "      <td>64</td>\n",
              "      <td>0</td>\n",
              "      <td>0</td>\n",
              "      <td>0</td>\n",
              "      <td>24</td>\n",
              "      <td>0</td>\n",
              "      <td>0</td>\n",
              "      <td>0</td>\n",
              "      <td>0</td>\n",
              "      <td>0</td>\n",
              "      <td>0</td>\n",
              "      <td>32</td>\n",
              "      <td>...</td>\n",
              "      <td>0.0</td>\n",
              "      <td>5.8</td>\n",
              "      <td>-7.7</td>\n",
              "      <td>0.0</td>\n",
              "      <td>0.0</td>\n",
              "      <td>0.9</td>\n",
              "      <td>3.8</td>\n",
              "      <td>-5.7</td>\n",
              "      <td>27.7</td>\n",
              "      <td>-0.2</td>\n",
              "      <td>0.0</td>\n",
              "      <td>9.5</td>\n",
              "      <td>-5.0</td>\n",
              "      <td>0.0</td>\n",
              "      <td>0.0</td>\n",
              "      <td>0.5</td>\n",
              "      <td>2.6</td>\n",
              "      <td>11.8</td>\n",
              "      <td>34.6</td>\n",
              "      <td>-0.4</td>\n",
              "      <td>0.0</td>\n",
              "      <td>11.0</td>\n",
              "      <td>-2.4</td>\n",
              "      <td>0.0</td>\n",
              "      <td>0.0</td>\n",
              "      <td>0.4</td>\n",
              "      <td>2.6</td>\n",
              "      <td>21.6</td>\n",
              "      <td>43.4</td>\n",
              "      <td>-0.5</td>\n",
              "      <td>0.0</td>\n",
              "      <td>8.5</td>\n",
              "      <td>0.0</td>\n",
              "      <td>0.0</td>\n",
              "      <td>0.0</td>\n",
              "      <td>0.2</td>\n",
              "      <td>2.1</td>\n",
              "      <td>20.4</td>\n",
              "      <td>38.8</td>\n",
              "      <td>6</td>\n",
              "    </tr>\n",
              "    <tr>\n",
              "      <th>2</th>\n",
              "      <td>54</td>\n",
              "      <td>0</td>\n",
              "      <td>172</td>\n",
              "      <td>95</td>\n",
              "      <td>138</td>\n",
              "      <td>163</td>\n",
              "      <td>386</td>\n",
              "      <td>185</td>\n",
              "      <td>102</td>\n",
              "      <td>96</td>\n",
              "      <td>34</td>\n",
              "      <td>70</td>\n",
              "      <td>66</td>\n",
              "      <td>23</td>\n",
              "      <td>75</td>\n",
              "      <td>0</td>\n",
              "      <td>40</td>\n",
              "      <td>80</td>\n",
              "      <td>0</td>\n",
              "      <td>0</td>\n",
              "      <td>24</td>\n",
              "      <td>0</td>\n",
              "      <td>0</td>\n",
              "      <td>0</td>\n",
              "      <td>0</td>\n",
              "      <td>0</td>\n",
              "      <td>0</td>\n",
              "      <td>20</td>\n",
              "      <td>56</td>\n",
              "      <td>52</td>\n",
              "      <td>0</td>\n",
              "      <td>0</td>\n",
              "      <td>40</td>\n",
              "      <td>0</td>\n",
              "      <td>0</td>\n",
              "      <td>0</td>\n",
              "      <td>0</td>\n",
              "      <td>0</td>\n",
              "      <td>0</td>\n",
              "      <td>28</td>\n",
              "      <td>...</td>\n",
              "      <td>0.0</td>\n",
              "      <td>5.8</td>\n",
              "      <td>-4.1</td>\n",
              "      <td>4.0</td>\n",
              "      <td>-0.5</td>\n",
              "      <td>0.4</td>\n",
              "      <td>0.3</td>\n",
              "      <td>20.4</td>\n",
              "      <td>23.3</td>\n",
              "      <td>0.7</td>\n",
              "      <td>0.0</td>\n",
              "      <td>10.0</td>\n",
              "      <td>-5.7</td>\n",
              "      <td>0.0</td>\n",
              "      <td>0.0</td>\n",
              "      <td>0.5</td>\n",
              "      <td>2.2</td>\n",
              "      <td>-3.0</td>\n",
              "      <td>20.7</td>\n",
              "      <td>1.3</td>\n",
              "      <td>0.0</td>\n",
              "      <td>11.1</td>\n",
              "      <td>-3.4</td>\n",
              "      <td>0.0</td>\n",
              "      <td>0.0</td>\n",
              "      <td>0.4</td>\n",
              "      <td>3.4</td>\n",
              "      <td>11.5</td>\n",
              "      <td>48.2</td>\n",
              "      <td>0.9</td>\n",
              "      <td>0.0</td>\n",
              "      <td>9.5</td>\n",
              "      <td>-2.4</td>\n",
              "      <td>0.0</td>\n",
              "      <td>0.0</td>\n",
              "      <td>0.3</td>\n",
              "      <td>3.4</td>\n",
              "      <td>12.3</td>\n",
              "      <td>49.0</td>\n",
              "      <td>10</td>\n",
              "    </tr>\n",
              "    <tr>\n",
              "      <th>3</th>\n",
              "      <td>55</td>\n",
              "      <td>0</td>\n",
              "      <td>175</td>\n",
              "      <td>94</td>\n",
              "      <td>100</td>\n",
              "      <td>202</td>\n",
              "      <td>380</td>\n",
              "      <td>179</td>\n",
              "      <td>143</td>\n",
              "      <td>28</td>\n",
              "      <td>11</td>\n",
              "      <td>-5</td>\n",
              "      <td>20</td>\n",
              "      <td>?</td>\n",
              "      <td>71</td>\n",
              "      <td>0</td>\n",
              "      <td>72</td>\n",
              "      <td>20</td>\n",
              "      <td>0</td>\n",
              "      <td>0</td>\n",
              "      <td>48</td>\n",
              "      <td>0</td>\n",
              "      <td>0</td>\n",
              "      <td>0</td>\n",
              "      <td>0</td>\n",
              "      <td>0</td>\n",
              "      <td>0</td>\n",
              "      <td>0</td>\n",
              "      <td>64</td>\n",
              "      <td>36</td>\n",
              "      <td>0</td>\n",
              "      <td>0</td>\n",
              "      <td>36</td>\n",
              "      <td>0</td>\n",
              "      <td>0</td>\n",
              "      <td>0</td>\n",
              "      <td>0</td>\n",
              "      <td>0</td>\n",
              "      <td>0</td>\n",
              "      <td>20</td>\n",
              "      <td>...</td>\n",
              "      <td>0.0</td>\n",
              "      <td>9.0</td>\n",
              "      <td>-7.9</td>\n",
              "      <td>0.0</td>\n",
              "      <td>0.0</td>\n",
              "      <td>0.1</td>\n",
              "      <td>4.1</td>\n",
              "      <td>7.6</td>\n",
              "      <td>51.0</td>\n",
              "      <td>0.4</td>\n",
              "      <td>0.0</td>\n",
              "      <td>15.0</td>\n",
              "      <td>-5.5</td>\n",
              "      <td>0.0</td>\n",
              "      <td>0.0</td>\n",
              "      <td>0.1</td>\n",
              "      <td>3.3</td>\n",
              "      <td>28.8</td>\n",
              "      <td>63.1</td>\n",
              "      <td>0.1</td>\n",
              "      <td>0.0</td>\n",
              "      <td>15.2</td>\n",
              "      <td>-3.7</td>\n",
              "      <td>0.0</td>\n",
              "      <td>0.0</td>\n",
              "      <td>0.6</td>\n",
              "      <td>3.0</td>\n",
              "      <td>36.8</td>\n",
              "      <td>68.0</td>\n",
              "      <td>0.1</td>\n",
              "      <td>0.0</td>\n",
              "      <td>12.2</td>\n",
              "      <td>-2.2</td>\n",
              "      <td>0.0</td>\n",
              "      <td>0.0</td>\n",
              "      <td>0.4</td>\n",
              "      <td>2.6</td>\n",
              "      <td>34.6</td>\n",
              "      <td>61.6</td>\n",
              "      <td>1</td>\n",
              "    </tr>\n",
              "    <tr>\n",
              "      <th>4</th>\n",
              "      <td>75</td>\n",
              "      <td>0</td>\n",
              "      <td>190</td>\n",
              "      <td>80</td>\n",
              "      <td>88</td>\n",
              "      <td>181</td>\n",
              "      <td>360</td>\n",
              "      <td>177</td>\n",
              "      <td>103</td>\n",
              "      <td>-16</td>\n",
              "      <td>13</td>\n",
              "      <td>61</td>\n",
              "      <td>3</td>\n",
              "      <td>?</td>\n",
              "      <td>?</td>\n",
              "      <td>0</td>\n",
              "      <td>48</td>\n",
              "      <td>40</td>\n",
              "      <td>0</td>\n",
              "      <td>0</td>\n",
              "      <td>28</td>\n",
              "      <td>0</td>\n",
              "      <td>0</td>\n",
              "      <td>0</td>\n",
              "      <td>0</td>\n",
              "      <td>0</td>\n",
              "      <td>0</td>\n",
              "      <td>0</td>\n",
              "      <td>40</td>\n",
              "      <td>24</td>\n",
              "      <td>0</td>\n",
              "      <td>0</td>\n",
              "      <td>24</td>\n",
              "      <td>0</td>\n",
              "      <td>0</td>\n",
              "      <td>0</td>\n",
              "      <td>0</td>\n",
              "      <td>0</td>\n",
              "      <td>0</td>\n",
              "      <td>52</td>\n",
              "      <td>...</td>\n",
              "      <td>0.0</td>\n",
              "      <td>8.5</td>\n",
              "      <td>-10.2</td>\n",
              "      <td>0.0</td>\n",
              "      <td>0.0</td>\n",
              "      <td>-1.0</td>\n",
              "      <td>4.7</td>\n",
              "      <td>-4.0</td>\n",
              "      <td>43.0</td>\n",
              "      <td>-0.2</td>\n",
              "      <td>0.0</td>\n",
              "      <td>15.2</td>\n",
              "      <td>-7.8</td>\n",
              "      <td>0.0</td>\n",
              "      <td>0.0</td>\n",
              "      <td>-0.1</td>\n",
              "      <td>4.9</td>\n",
              "      <td>16.2</td>\n",
              "      <td>63.2</td>\n",
              "      <td>-0.2</td>\n",
              "      <td>0.0</td>\n",
              "      <td>9.1</td>\n",
              "      <td>-0.9</td>\n",
              "      <td>0.0</td>\n",
              "      <td>0.0</td>\n",
              "      <td>-0.2</td>\n",
              "      <td>2.9</td>\n",
              "      <td>21.7</td>\n",
              "      <td>48.9</td>\n",
              "      <td>-0.4</td>\n",
              "      <td>0.0</td>\n",
              "      <td>13.1</td>\n",
              "      <td>-3.6</td>\n",
              "      <td>0.0</td>\n",
              "      <td>0.0</td>\n",
              "      <td>-0.1</td>\n",
              "      <td>3.9</td>\n",
              "      <td>25.4</td>\n",
              "      <td>62.8</td>\n",
              "      <td>7</td>\n",
              "    </tr>\n",
              "  </tbody>\n",
              "</table>\n",
              "<p>5 rows × 280 columns</p>\n",
              "</div>"
            ],
            "text/plain": [
              "   feature_0  feature_1  feature_2  ...  feature_277  feature_278  target\n",
              "0         75          0        190  ...         23.3         49.4       8\n",
              "1         56          1        165  ...         20.4         38.8       6\n",
              "2         54          0        172  ...         12.3         49.0      10\n",
              "3         55          0        175  ...         34.6         61.6       1\n",
              "4         75          0        190  ...         25.4         62.8       7\n",
              "\n",
              "[5 rows x 280 columns]"
            ]
          },
          "metadata": {
            "tags": []
          },
          "execution_count": 21
        }
      ]
    },
    {
      "cell_type": "code",
      "metadata": {
        "colab": {
          "base_uri": "https://localhost:8080/",
          "height": 856
        },
        "id": "Q4h9wMYKL9pG",
        "outputId": "87d41109-e6d5-42c8-95aa-9eebd982521a"
      },
      "source": [
        "val, count = np.unique(np.array(data['target']), return_counts=True)\r\n",
        "plt.bar(val, count)\r\n",
        "plt.xticks(ticks=val,labels=ground_true_class_dist['Class   :'],  rotation='vertical');\r\n",
        "plt.ylabel(\"sample ##\")\r\n",
        "plt.xlabel(\"class nams\");\r\n",
        "plt.title(\"samples distributgion\");"
      ],
      "execution_count": 22,
      "outputs": [
        {
          "output_type": "display_data",
          "data": {
            "image/png": "[encoded data removed]",
            "text/plain": [
              "<Figure size 864x576 with 1 Axes>"
            ]
          },
          "metadata": {
            "tags": []
          }
        }
      ]
    },
    {
      "cell_type": "code",
      "metadata": {
        "id": "DtMkKa49ldfJ"
      },
      "source": [
        "cols_to_drop = data.columns[(data == 0).all()]\r\n",
        "\r\n",
        "cat_cols = [ col for col in total_info[total_info[:, -1]=='nominal', 1].tolist() if not col in cols_to_drop]\r\n",
        "num_cols = [col for col in total_info[total_info[:, -1]=='linear', 1].tolist() if not col in cols_to_drop]\r\n",
        "\r\n",
        "data.drop(columns=cols_to_drop, inplace=True)"
      ],
      "execution_count": 23,
      "outputs": []
    },
    {
      "cell_type": "code",
      "metadata": {
        "colab": {
          "base_uri": "https://localhost:8080/",
          "height": 191
        },
        "id": "tPyc8G0hl_AU",
        "outputId": "055cfd9e-2c13-4111-c1c8-29398ff8c401"
      },
      "source": [
        "obj_col = data.select_dtypes(include='object').columns\r\n",
        "data[obj_col].head()"
      ],
      "execution_count": 24,
      "outputs": [
        {
          "output_type": "execute_result",
          "data": {
            "text/html": [
              "<div>\n",
              "<style scoped>\n",
              "    .dataframe tbody tr th:only-of-type {\n",
              "        vertical-align: middle;\n",
              "    }\n",
              "\n",
              "    .dataframe tbody tr th {\n",
              "        vertical-align: top;\n",
              "    }\n",
              "\n",
              "    .dataframe thead th {\n",
              "        text-align: right;\n",
              "    }\n",
              "</style>\n",
              "<table border=\"1\" class=\"dataframe\">\n",
              "  <thead>\n",
              "    <tr style=\"text-align: right;\">\n",
              "      <th></th>\n",
              "      <th>feature_10</th>\n",
              "      <th>feature_11</th>\n",
              "      <th>feature_12</th>\n",
              "      <th>feature_13</th>\n",
              "      <th>feature_14</th>\n",
              "    </tr>\n",
              "  </thead>\n",
              "  <tbody>\n",
              "    <tr>\n",
              "      <th>0</th>\n",
              "      <td>13</td>\n",
              "      <td>64</td>\n",
              "      <td>-2</td>\n",
              "      <td>?</td>\n",
              "      <td>63</td>\n",
              "    </tr>\n",
              "    <tr>\n",
              "      <th>1</th>\n",
              "      <td>37</td>\n",
              "      <td>-17</td>\n",
              "      <td>31</td>\n",
              "      <td>?</td>\n",
              "      <td>53</td>\n",
              "    </tr>\n",
              "    <tr>\n",
              "      <th>2</th>\n",
              "      <td>34</td>\n",
              "      <td>70</td>\n",
              "      <td>66</td>\n",
              "      <td>23</td>\n",
              "      <td>75</td>\n",
              "    </tr>\n",
              "    <tr>\n",
              "      <th>3</th>\n",
              "      <td>11</td>\n",
              "      <td>-5</td>\n",
              "      <td>20</td>\n",
              "      <td>?</td>\n",
              "      <td>71</td>\n",
              "    </tr>\n",
              "    <tr>\n",
              "      <th>4</th>\n",
              "      <td>13</td>\n",
              "      <td>61</td>\n",
              "      <td>3</td>\n",
              "      <td>?</td>\n",
              "      <td>?</td>\n",
              "    </tr>\n",
              "  </tbody>\n",
              "</table>\n",
              "</div>"
            ],
            "text/plain": [
              "  feature_10 feature_11 feature_12 feature_13 feature_14\n",
              "0         13         64         -2          ?         63\n",
              "1         37        -17         31          ?         53\n",
              "2         34         70         66         23         75\n",
              "3         11         -5         20          ?         71\n",
              "4         13         61          3          ?          ?"
            ]
          },
          "metadata": {
            "tags": []
          },
          "execution_count": 24
        }
      ]
    },
    {
      "cell_type": "code",
      "metadata": {
        "colab": {
          "base_uri": "https://localhost:8080/"
        },
        "id": "3c0YDw_ynXtK",
        "outputId": "a957590d-855f-4436-8698-72d74b436656"
      },
      "source": [
        "data[obj_col]  = data[obj_col].replace('?', np.nan).astype(np.float64)\r\n",
        "data[obj_col].info()"
      ],
      "execution_count": 25,
      "outputs": [
        {
          "output_type": "stream",
          "text": [
            "<class 'pandas.core.frame.DataFrame'>\n",
            "RangeIndex: 452 entries, 0 to 451\n",
            "Data columns (total 5 columns):\n",
            " #   Column      Non-Null Count  Dtype  \n",
            "---  ------      --------------  -----  \n",
            " 0   feature_10  444 non-null    float64\n",
            " 1   feature_11  430 non-null    float64\n",
            " 2   feature_12  451 non-null    float64\n",
            " 3   feature_13  76 non-null     float64\n",
            " 4   feature_14  451 non-null    float64\n",
            "dtypes: float64(5)\n",
            "memory usage: 17.8 KB\n"
          ],
          "name": "stdout"
        }
      ]
    },
    {
      "cell_type": "code",
      "metadata": {
        "id": "uw38d1SXnpoO"
      },
      "source": [
        "categorical_transformer = Pipeline(steps=[\r\n",
        "    ('onehot', OneHotEncoder(handle_unknown='ignore')),\r\n",
        "])\r\n",
        "\r\n",
        "numeric_transformer = Pipeline(steps=[\r\n",
        "                                      ('imputer', SimpleImputer(strategy='median')),\r\n",
        "                                      ('scaler', StandardScaler())\r\n",
        "                                      ])\r\n"
      ],
      "execution_count": 26,
      "outputs": []
    },
    {
      "cell_type": "code",
      "metadata": {
        "id": "LkwNGaTPwhy6"
      },
      "source": [
        "preprocessor = ColumnTransformer(\r\n",
        "    transformers=[\r\n",
        "        ('num', numeric_transformer, num_cols),\r\n",
        "        ('cat', categorical_transformer, cat_cols)\r\n",
        "    ]\r\n",
        ")"
      ],
      "execution_count": 27,
      "outputs": []
    },
    {
      "cell_type": "code",
      "metadata": {
        "id": "q03W7GpQwvDe"
      },
      "source": [
        "X = data.iloc[:, :-1]\r\n",
        "y = data.iloc[:, -1]\r\n",
        "\r\n",
        "X_transformed = preprocessor.fit_transform(X)\r\n"
      ],
      "execution_count": 28,
      "outputs": []
    },
    {
      "cell_type": "code",
      "metadata": {
        "id": "wqFyCgzOywT3"
      },
      "source": [
        "X_train, X_test, y_train, y_test = train_test_split(X_transformed, y, test_size=0.2, random_state=42, shuffle=True, stratify=y)"
      ],
      "execution_count": 29,
      "outputs": []
    },
    {
      "cell_type": "code",
      "metadata": {
        "id": "gsV-zW6z2mte"
      },
      "source": [
        "ros = RandomOverSampler(random_state=42)\r\n",
        "X_res, y_res = ros.fit_resample(X_train, y_train)"
      ],
      "execution_count": 30,
      "outputs": []
    },
    {
      "cell_type": "code",
      "metadata": {
        "id": "jSpa2KCPo8F-"
      },
      "source": [
        "def model_evalute(model, train, y_t=y_train, test=X_test, y_tst=y_test):\r\n",
        "    model.fit(train, y_t)\r\n",
        "    y_pred = model.predict(test)\r\n",
        "    print('accuracy: ', accuracy_score(y_tst, y_pred))\r\n",
        "    print('precision: ', precision_score(y_tst, y_pred, labels=np.unique(y_pred), average='macro'))\r\n",
        "    print('recall: ', recall_score(y_tst, y_pred, labels=np.unique(y_pred), average='macro'))\r\n",
        "    print('f1: ', f1_score(y_tst, y_pred, labels=np.unique(y_pred), average='macro'))"
      ],
      "execution_count": 31,
      "outputs": []
    },
    {
      "cell_type": "code",
      "metadata": {
        "colab": {
          "base_uri": "https://localhost:8080/"
        },
        "id": "SCmcKA-SywK8",
        "outputId": "7971ecc3-d545-4830-9141-01037616fe2c"
      },
      "source": [
        "%%time\r\n",
        "kf = KFold(n_splits=5, shuffle=True, random_state=42)\r\n",
        "neigh = KNeighborsClassifier(n_neighbors=3, n_jobs=-1)\r\n",
        "print(\"score on development set: \")\r\n",
        "print('accuracy: ', np.mean(cross_val_score(neigh, X_train, y_train, cv=kf, scoring='accuracy')))\r\n",
        "print('precision: ', np.mean(cross_val_score(neigh, X_train, y_train, cv=kf, scoring='precision_macro')))\r\n",
        "print('recall: ', np.mean(cross_val_score(neigh, X_train, y_train, cv=kf, scoring='recall_macro')))\r\n",
        "print('f1: ', np.mean(cross_val_score(neigh, X_train, y_train, cv=kf, scoring='f1_macro')))"
      ],
      "execution_count": 32,
      "outputs": [
        {
          "output_type": "stream",
          "text": [
            "score on development set: \n",
            "accuracy:  0.6398401826484019\n"
          ],
          "name": "stdout"
        },
        {
          "output_type": "stream",
          "text": [
            "/usr/local/lib/python3.6/dist-packages/sklearn/metrics/_classification.py:1245: UndefinedMetricWarning: Precision is ill-defined and being set to 0.0 in labels with no predicted samples. Use `zero_division` parameter to control this behavior.\n",
            "  _warn_prf(average, modifier, msg_start, len(result))\n",
            "/usr/local/lib/python3.6/dist-packages/sklearn/metrics/_classification.py:1245: UndefinedMetricWarning: Precision is ill-defined and being set to 0.0 in labels with no predicted samples. Use `zero_division` parameter to control this behavior.\n",
            "  _warn_prf(average, modifier, msg_start, len(result))\n",
            "/usr/local/lib/python3.6/dist-packages/sklearn/metrics/_classification.py:1245: UndefinedMetricWarning: Precision is ill-defined and being set to 0.0 in labels with no predicted samples. Use `zero_division` parameter to control this behavior.\n",
            "  _warn_prf(average, modifier, msg_start, len(result))\n",
            "/usr/local/lib/python3.6/dist-packages/sklearn/metrics/_classification.py:1245: UndefinedMetricWarning: Precision is ill-defined and being set to 0.0 in labels with no predicted samples. Use `zero_division` parameter to control this behavior.\n",
            "  _warn_prf(average, modifier, msg_start, len(result))\n",
            "/usr/local/lib/python3.6/dist-packages/sklearn/metrics/_classification.py:1245: UndefinedMetricWarning: Precision is ill-defined and being set to 0.0 in labels with no predicted samples. Use `zero_division` parameter to control this behavior.\n",
            "  _warn_prf(average, modifier, msg_start, len(result))\n"
          ],
          "name": "stderr"
        },
        {
          "output_type": "stream",
          "text": [
            "precision:  0.4811197808683441\n",
            "recall:  0.34954829682102406\n",
            "f1:  0.360202540535906\n",
            "CPU times: user 466 ms, sys: 1.96 s, total: 2.42 s\n",
            "Wall time: 2.23 s\n"
          ],
          "name": "stdout"
        }
      ]
    },
    {
      "cell_type": "code",
      "metadata": {
        "colab": {
          "base_uri": "https://localhost:8080/"
        },
        "id": "CDdWLriI2mys",
        "outputId": "2060d341-d98f-4e7f-f19d-0d5227edc341"
      },
      "source": [
        "%%time\r\n",
        "print(\"score on test set: \")\r\n",
        "model_evalute(neigh, X_train)"
      ],
      "execution_count": 33,
      "outputs": [
        {
          "output_type": "stream",
          "text": [
            "score on test set: \n",
            "accuracy:  0.6153846153846154\n",
            "precision:  0.6932234432234432\n",
            "recall:  0.5481373501781664\n",
            "f1:  0.5536888308541851\n",
            "CPU times: user 38.3 ms, sys: 93 ms, total: 131 ms\n",
            "Wall time: 127 ms\n"
          ],
          "name": "stdout"
        }
      ]
    },
    {
      "cell_type": "code",
      "metadata": {
        "colab": {
          "base_uri": "https://localhost:8080/"
        },
        "id": "k49iapKPYit1",
        "outputId": "5c02162c-1e78-44e0-ec7e-5e3209f9133c"
      },
      "source": [
        "%%time\r\n",
        "kf = KFold(n_splits=5, shuffle=True, random_state=42)\r\n",
        "neigh = KNeighborsClassifier(n_neighbors=3, n_jobs=-1)\r\n",
        "print(\"score on development set with balanced clases : \")\r\n",
        "print('accuracy: ', np.mean(cross_val_score(neigh, X_res, y_res, cv=kf, scoring='accuracy')))\r\n",
        "print('precision: ', np.mean(cross_val_score(neigh, X_res, y_res, cv=kf, scoring='precision_macro')))\r\n",
        "print('recall: ', np.mean(cross_val_score(neigh, X_res, y_res, cv=kf, scoring='recall_macro')))\r\n",
        "print('f1: ', np.mean(cross_val_score(neigh, X_res, y_res, cv=kf, scoring='f1_macro')))"
      ],
      "execution_count": 34,
      "outputs": [
        {
          "output_type": "stream",
          "text": [
            "score on development set with balanced clases : \n",
            "accuracy:  0.9646742940791248\n",
            "precision:  0.96414423255193\n",
            "recall:  0.9652314392757957\n",
            "f1:  0.9620577791764436\n",
            "CPU times: user 2.54 s, sys: 2.22 s, total: 4.75 s\n",
            "Wall time: 3.05 s\n"
          ],
          "name": "stdout"
        }
      ]
    },
    {
      "cell_type": "code",
      "metadata": {
        "colab": {
          "base_uri": "https://localhost:8080/"
        },
        "id": "qKwYzEazZICk",
        "outputId": "2086303d-40a9-482a-9dc0-d6d3357b3d0e"
      },
      "source": [
        "%%time\r\n",
        "print(\"score on test set with balanced clases: \")\r\n",
        "model_evalute(neigh, X_res, y_t=y_res)"
      ],
      "execution_count": 35,
      "outputs": [
        {
          "output_type": "stream",
          "text": [
            "score on test set with balanced clases: \n",
            "accuracy:  0.5714285714285714\n",
            "precision:  0.43073593073593064\n",
            "recall:  0.5152752009894868\n",
            "f1:  0.459573002754821\n",
            "CPU times: user 58.2 ms, sys: 91.8 ms, total: 150 ms\n",
            "Wall time: 128 ms\n"
          ],
          "name": "stdout"
        }
      ]
    },
    {
      "cell_type": "code",
      "metadata": {
        "colab": {
          "base_uri": "https://localhost:8080/"
        },
        "id": "qJJUATTgewbw",
        "outputId": "2d7d9ec3-7e5a-4ff4-de00-47fefa340184"
      },
      "source": [
        "# метод опорных векторов (лучшее ядро - linear) до балансировки классов\r\n",
        "%%time\r\n",
        "clf = SVC(C = 0.1, kernel='linear', random_state=241)\r\n",
        "print(\"score on development set: \")\r\n",
        "model_evalute(clf, X_train, test=X_train, y_tst=y_train)"
      ],
      "execution_count": 36,
      "outputs": [
        {
          "output_type": "stream",
          "text": [
            "score on development set: \n",
            "accuracy:  0.9806094182825484\n",
            "precision:  0.9957807118254879\n",
            "recall:  0.9767442874585732\n",
            "f1:  0.9851328255804133\n",
            "CPU times: user 52 ms, sys: 7.13 ms, total: 59.1 ms\n",
            "Wall time: 57.8 ms\n"
          ],
          "name": "stdout"
        }
      ]
    },
    {
      "cell_type": "code",
      "metadata": {
        "colab": {
          "base_uri": "https://localhost:8080/"
        },
        "id": "9brGCLlCaNsA",
        "outputId": "9e83950d-d2a4-47da-cd4a-d28da0aa9bfc"
      },
      "source": [
        "# метод опорных векторов (лучшее ядро - linear) до балансировки классов\r\n",
        "%%time\r\n",
        "clf = SVC(C = 0.1, kernel='linear', random_state=241)\r\n",
        "print(\"score on test set: \")\r\n",
        "model_evalute(clf, X_train)"
      ],
      "execution_count": 37,
      "outputs": [
        {
          "output_type": "stream",
          "text": [
            "score on test set: \n",
            "accuracy:  0.7362637362637363\n",
            "precision:  0.6298170383076044\n",
            "recall:  0.6989692846835704\n",
            "f1:  0.6492261178793686\n",
            "CPU times: user 39.5 ms, sys: 794 µs, total: 40.3 ms\n",
            "Wall time: 39.8 ms\n"
          ],
          "name": "stdout"
        }
      ]
    },
    {
      "cell_type": "code",
      "metadata": {
        "colab": {
          "base_uri": "https://localhost:8080/"
        },
        "id": "4LSdAdPbgTRM",
        "outputId": "53b4f6b2-cd35-4a8d-e0c6-7811a1c56800"
      },
      "source": [
        "# метод опорных векторов (лучшее ядро - linear) с балансировкой классов\r\n",
        "%%time\r\n",
        "clf = SVC(C = 0.01, kernel='linear', random_state=241)\r\n",
        "print(\"score on development set with balanced clases : \")\r\n",
        "model_evalute(clf, X_res, y_t=y_res,  test=X_res, y_tst=y_res)"
      ],
      "execution_count": 38,
      "outputs": [
        {
          "output_type": "stream",
          "text": [
            "score on development set with balanced clases : \n",
            "accuracy:  0.9870486656200942\n",
            "precision:  0.9871652708004471\n",
            "recall:  0.9870486656200941\n",
            "f1:  0.9867721359375147\n",
            "CPU times: user 392 ms, sys: 1.64 ms, total: 394 ms\n",
            "Wall time: 406 ms\n"
          ],
          "name": "stdout"
        }
      ]
    },
    {
      "cell_type": "code",
      "metadata": {
        "colab": {
          "base_uri": "https://localhost:8080/"
        },
        "id": "dOil4Oh4dHrC",
        "outputId": "4a88016e-65f5-40af-9577-3ba5f48fa08a"
      },
      "source": [
        "# метод опорных векторов (лучшее ядро - linear) с балансировкой классов\r\n",
        "%%time\r\n",
        "clf = SVC(C = 0.01, kernel='linear', random_state=241)\r\n",
        "print(\"score on test set with balanced clases : \")\r\n",
        "model_evalute(clf, X_res, y_t=y_res)"
      ],
      "execution_count": 39,
      "outputs": [
        {
          "output_type": "stream",
          "text": [
            "score on test set with balanced clases : \n",
            "accuracy:  0.7362637362637363\n",
            "precision:  0.6535102578580839\n",
            "recall:  0.738857967429396\n",
            "f1:  0.6817377668770858\n",
            "CPU times: user 145 ms, sys: 3.36 ms, total: 148 ms\n",
            "Wall time: 150 ms\n"
          ],
          "name": "stdout"
        }
      ]
    },
    {
      "cell_type": "code",
      "metadata": {
        "colab": {
          "base_uri": "https://localhost:8080/"
        },
        "id": "QDL5HG_XjVcI",
        "outputId": "f6774ab0-ebfc-49b2-bacf-3b9f53b41292"
      },
      "source": [
        "# бустинг на деревьях\r\n",
        "%%time\r\n",
        "clf = GradientBoostingClassifier(random_state=42, max_depth=5, warm_start=True)\r\n",
        "print(\"score on development set: \")\r\n",
        "model_evalute(clf, X_train, test=X_train, y_tst=y_train)"
      ],
      "execution_count": 40,
      "outputs": [
        {
          "output_type": "stream",
          "text": [
            "score on development set: \n",
            "accuracy:  1.0\n",
            "precision:  1.0\n",
            "recall:  1.0\n",
            "f1:  1.0\n",
            "CPU times: user 21.5 s, sys: 5.69 ms, total: 21.5 s\n",
            "Wall time: 21.6 s\n"
          ],
          "name": "stdout"
        }
      ]
    },
    {
      "cell_type": "code",
      "metadata": {
        "colab": {
          "base_uri": "https://localhost:8080/"
        },
        "id": "VbBr6ihJqjyG",
        "outputId": "779a39a8-ff33-48c5-e28b-546bcf49f643"
      },
      "source": [
        "# бустинг на деревьях\r\n",
        "%%time\r\n",
        "clf = GradientBoostingClassifier(random_state=42, max_depth=5, warm_start=True)\r\n",
        "print(\"score on test set: \")\r\n",
        "model_evalute(clf, X_train)"
      ],
      "execution_count": 41,
      "outputs": [
        {
          "output_type": "stream",
          "text": [
            "score on test set: \n",
            "accuracy:  0.7252747252747253\n",
            "precision:  0.6109982211275314\n",
            "recall:  0.6914115646258503\n",
            "f1:  0.6409146405733961\n",
            "CPU times: user 21.5 s, sys: 6.82 ms, total: 21.5 s\n",
            "Wall time: 21.6 s\n"
          ],
          "name": "stdout"
        }
      ]
    },
    {
      "cell_type": "code",
      "metadata": {
        "colab": {
          "base_uri": "https://localhost:8080/"
        },
        "id": "jRG58COZvRPt",
        "outputId": "2e5b2fa3-2b96-4c79-de4f-14bbc036a26b"
      },
      "source": [
        "# бустинг на деревьях c балансировкой\r\n",
        "%%time\r\n",
        "clf = GradientBoostingClassifier(random_state=42, max_depth=5)\r\n",
        "\r\n",
        "print(\"score on development set with balanced clases : \")\r\n",
        "model_evalute(clf, X_res, y_t=y_res, test=X_res, y_tst=y_res)"
      ],
      "execution_count": 42,
      "outputs": [
        {
          "output_type": "stream",
          "text": [
            "score on development set with balanced clases : \n",
            "accuracy:  1.0\n",
            "precision:  1.0\n",
            "recall:  1.0\n",
            "f1:  1.0\n",
            "CPU times: user 1min 26s, sys: 60.6 ms, total: 1min 26s\n",
            "Wall time: 1min 26s\n"
          ],
          "name": "stdout"
        }
      ]
    },
    {
      "cell_type": "code",
      "metadata": {
        "colab": {
          "base_uri": "https://localhost:8080/"
        },
        "id": "n-H7Icg1reV1",
        "outputId": "935e8572-a491-40c9-cc23-2a70c0e99ac5"
      },
      "source": [
        "# бустинг на деревьях c балансировкой\r\n",
        "%%time\r\n",
        "clf = GradientBoostingClassifier(random_state=42, max_depth=5)\r\n",
        "print(\"score on test set with balanced clases : \")\r\n",
        "model_evalute(clf, X_res, y_t=y_res)"
      ],
      "execution_count": 43,
      "outputs": [
        {
          "output_type": "stream",
          "text": [
            "score on test set with balanced clases : \n",
            "accuracy:  0.7252747252747253\n",
            "precision:  0.47401960784313724\n",
            "recall:  0.569047619047619\n",
            "f1:  0.5083977591036415\n",
            "CPU times: user 1min 23s, sys: 144 ms, total: 1min 23s\n",
            "Wall time: 1min 24s\n"
          ],
          "name": "stdout"
        }
      ]
    },
    {
      "cell_type": "code",
      "metadata": {
        "colab": {
          "base_uri": "https://localhost:8080/"
        },
        "id": "GvG9MqbWwkV0",
        "outputId": "4d72e818-c66c-44c6-a881-542a3cec2bca"
      },
      "source": [
        "# случайный лес\r\n",
        "%%time\r\n",
        "clf = RandomForestClassifier(n_estimators=350, random_state=42, class_weight='balanced_subsample', n_jobs=-1)\r\n",
        "print(\"score on development set: \")\r\n",
        "model_evalute(clf, X_train, test=X_train, y_tst=y_train)"
      ],
      "execution_count": 44,
      "outputs": [
        {
          "output_type": "stream",
          "text": [
            "score on development set: \n",
            "accuracy:  1.0\n",
            "precision:  1.0\n",
            "recall:  1.0\n",
            "f1:  1.0\n",
            "CPU times: user 2.08 s, sys: 146 ms, total: 2.23 s\n",
            "Wall time: 1.65 s\n"
          ],
          "name": "stdout"
        }
      ]
    },
    {
      "cell_type": "code",
      "metadata": {
        "colab": {
          "base_uri": "https://localhost:8080/"
        },
        "id": "GqmiPNhKu62J",
        "outputId": "2050038e-6110-4cdb-9f99-10d7b01fa17d"
      },
      "source": [
        "# случайный лес\r\n",
        "%%time\r\n",
        "clf = RandomForestClassifier(n_estimators=350, random_state=42, class_weight='balanced_subsample', n_jobs=-1)\r\n",
        "print(\"score on test set: \")\r\n",
        "model_evalute(clf, X_train)"
      ],
      "execution_count": 45,
      "outputs": [
        {
          "output_type": "stream",
          "text": [
            "score on test set: \n",
            "accuracy:  0.6593406593406593\n",
            "precision:  0.8233333333333333\n",
            "recall:  0.698450491307634\n",
            "f1:  0.6656844947167527\n",
            "CPU times: user 2.02 s, sys: 135 ms, total: 2.16 s\n",
            "Wall time: 1.65 s\n"
          ],
          "name": "stdout"
        }
      ]
    },
    {
      "cell_type": "code",
      "metadata": {
        "colab": {
          "base_uri": "https://localhost:8080/"
        },
        "id": "LtBpIvoExHFS",
        "outputId": "4c2ce49f-c507-43eb-99eb-c2062a0eb4c8"
      },
      "source": [
        "# случайный лес\r\n",
        "%%time\r\n",
        "clf = RandomForestClassifier(n_estimators=350, random_state=42, n_jobs=-1) # class_weight='balanced'\r\n",
        "print(\"score on development set with balanced clases : \")\r\n",
        "model_evalute(clf, X_res, y_t=y_res, test=X_res, y_tst=y_res)"
      ],
      "execution_count": 46,
      "outputs": [
        {
          "output_type": "stream",
          "text": [
            "score on development set with balanced clases : \n",
            "accuracy:  1.0\n",
            "precision:  1.0\n",
            "recall:  1.0\n",
            "f1:  1.0\n",
            "CPU times: user 4.02 s, sys: 138 ms, total: 4.15 s\n",
            "Wall time: 2.47 s\n"
          ],
          "name": "stdout"
        }
      ]
    },
    {
      "cell_type": "code",
      "metadata": {
        "colab": {
          "base_uri": "https://localhost:8080/"
        },
        "id": "tJMyPiizy7h-",
        "outputId": "a7df4362-61ca-4470-f33f-69011e6a079d"
      },
      "source": [
        "# случайный лес\r\n",
        "%%time\r\n",
        "clf = RandomForestClassifier(n_estimators=350, random_state=42, n_jobs=-1) # class_weight='balanced'\r\n",
        "print(\"score on test set with balanced clases : \")\r\n",
        "model_evalute(clf, X_res, y_t=y_res)"
      ],
      "execution_count": 47,
      "outputs": [
        {
          "output_type": "stream",
          "text": [
            "score on test set with balanced clases : \n",
            "accuracy:  0.6813186813186813\n",
            "precision:  0.6952639751552795\n",
            "recall:  0.5726757369614512\n",
            "f1:  0.5661628096479792\n",
            "CPU times: user 3.9 s, sys: 136 ms, total: 4.03 s\n",
            "Wall time: 2.46 s\n"
          ],
          "name": "stdout"
        }
      ]
    },
    {
      "cell_type": "code",
      "metadata": {
        "colab": {
          "base_uri": "https://localhost:8080/"
        },
        "id": "jekY-pYLyRiA",
        "outputId": "5d50db01-57e6-4ac4-dc98-2f742b6adac3"
      },
      "source": [
        "# деревья и леса\r\n",
        "%%time\r\n",
        "tr = DecisionTreeClassifier(random_state=42, class_weight='balanced')\r\n",
        "\r\n",
        "print(\"score on development set: \")\r\n",
        "model_evalute(tr, X_train, test=X_train, y_tst=y_train)"
      ],
      "execution_count": 48,
      "outputs": [
        {
          "output_type": "stream",
          "text": [
            "score on development set: \n",
            "accuracy:  1.0\n",
            "precision:  1.0\n",
            "recall:  1.0\n",
            "f1:  1.0\n",
            "CPU times: user 59 ms, sys: 1.03 ms, total: 60.1 ms\n",
            "Wall time: 60.2 ms\n"
          ],
          "name": "stdout"
        }
      ]
    },
    {
      "cell_type": "code",
      "metadata": {
        "colab": {
          "base_uri": "https://localhost:8080/"
        },
        "id": "fm_lRRsIzqqH",
        "outputId": "f33ead2a-8f59-494f-f95e-4cd2b2cc249b"
      },
      "source": [
        "# деревья и леса\r\n",
        "%%time\r\n",
        "tr = DecisionTreeClassifier(random_state=42, class_weight='balanced')\r\n",
        "\r\n",
        "print(\"score on test set: \")\r\n",
        "model_evalute(tr, X_train)"
      ],
      "execution_count": 49,
      "outputs": [
        {
          "output_type": "stream",
          "text": [
            "score on test set: \n",
            "accuracy:  0.5714285714285714\n",
            "precision:  0.3969696969696969\n",
            "recall:  0.4305916305916306\n",
            "f1:  0.40235414740058706\n",
            "CPU times: user 57.3 ms, sys: 0 ns, total: 57.3 ms\n",
            "Wall time: 57.6 ms\n"
          ],
          "name": "stdout"
        },
        {
          "output_type": "stream",
          "text": [
            "/usr/local/lib/python3.6/dist-packages/sklearn/metrics/_classification.py:1245: UndefinedMetricWarning: Recall is ill-defined and being set to 0.0 in labels with no true samples. Use `zero_division` parameter to control this behavior.\n",
            "  _warn_prf(average, modifier, msg_start, len(result))\n"
          ],
          "name": "stderr"
        }
      ]
    },
    {
      "cell_type": "code",
      "metadata": {
        "colab": {
          "base_uri": "https://localhost:8080/"
        },
        "id": "fF8BIPV4zXix",
        "outputId": "fbd8d1a2-58f2-40b4-8128-4eda991d48a4"
      },
      "source": [
        "# деревья и леса\r\n",
        "%%time\r\n",
        "tr = DecisionTreeClassifier(random_state=42, class_weight='balanced')\r\n",
        "\r\n",
        "print(\"score on development set with balanced clases : \")\r\n",
        "model_evalute(tr, X_train, test=X_train, y_tst=y_train)"
      ],
      "execution_count": 50,
      "outputs": [
        {
          "output_type": "stream",
          "text": [
            "score on development set with balanced clases : \n",
            "accuracy:  1.0\n",
            "precision:  1.0\n",
            "recall:  1.0\n",
            "f1:  1.0\n",
            "CPU times: user 63.9 ms, sys: 9 µs, total: 63.9 ms\n",
            "Wall time: 68.4 ms\n"
          ],
          "name": "stdout"
        }
      ]
    },
    {
      "cell_type": "code",
      "metadata": {
        "colab": {
          "base_uri": "https://localhost:8080/"
        },
        "id": "TOrC4B1S2K26",
        "outputId": "0d92ce97-9796-4128-b7ab-a10c75df9714"
      },
      "source": [
        "# деревья и леса\r\n",
        "%%time\r\n",
        "tr = DecisionTreeClassifier(random_state=42, class_weight='balanced')\r\n",
        "\r\n",
        "print(\"score on test set with balanced clases : \")\r\n",
        "model_evalute(tr, X_res, y_t=y_res)"
      ],
      "execution_count": 51,
      "outputs": [
        {
          "output_type": "stream",
          "text": [
            "score on test set with balanced clases : \n",
            "accuracy:  0.5604395604395604\n",
            "precision:  0.36432806324110667\n",
            "recall:  0.41224489795918373\n",
            "f1:  0.37392880597214967\n",
            "CPU times: user 142 ms, sys: 2.01 ms, total: 144 ms\n",
            "Wall time: 146 ms\n"
          ],
          "name": "stdout"
        },
        {
          "output_type": "stream",
          "text": [
            "/usr/local/lib/python3.6/dist-packages/sklearn/metrics/_classification.py:1245: UndefinedMetricWarning: Recall is ill-defined and being set to 0.0 in labels with no true samples. Use `zero_division` parameter to control this behavior.\n",
            "  _warn_prf(average, modifier, msg_start, len(result))\n"
          ],
          "name": "stderr"
        }
      ]
    },
    {
      "cell_type": "code",
      "metadata": {
        "colab": {
          "base_uri": "https://localhost:8080/"
        },
        "id": "gQUgP8gDjEbW",
        "outputId": "00504b22-521d-428c-a1e0-8ef8b1335fe6"
      },
      "source": [
        "X_transformed.shape"
      ],
      "execution_count": 52,
      "outputs": [
        {
          "output_type": "execute_result",
          "data": {
            "text/plain": [
              "(452, 326)"
            ]
          },
          "metadata": {
            "tags": []
          },
          "execution_count": 52
        }
      ]
    },
    {
      "cell_type": "markdown",
      "metadata": {
        "id": "Db2Rh_mumqLi"
      },
      "source": [
        "### wirh SVD and n fetures"
      ]
    },
    {
      "cell_type": "code",
      "metadata": {
        "id": "fUdOBWgz-zGc"
      },
      "source": [
        "parameters = [{'svd__n_components': np.hstack((range(2,11),range(20, 198, 10))),\r\n",
        "               'clf__n_neighbors': range(3, 12)}]\r\n",
        "\r\n",
        "pipeline = Pipeline([\r\n",
        "    ('svd', TruncatedSVD(random_state=42)),\r\n",
        "    ('clf', KNeighborsClassifier()) ])"
      ],
      "execution_count": 53,
      "outputs": []
    },
    {
      "cell_type": "code",
      "metadata": {
        "colab": {
          "base_uri": "https://localhost:8080/"
        },
        "id": "jOlrcciAB50b",
        "outputId": "8406600d-5e85-431e-b483-2202bbe2c753"
      },
      "source": [
        "%%time\r\n",
        "gs = GridSearchCV( pipeline, parameters, scoring='accuracy')\r\n",
        "gs.fit(X_train, y_train)\r\n",
        "\r\n",
        "print(\"Best parameters set found on development set: \", gs.best_params_)\r\n",
        "print(\"Best score found on development set: \", gs.best_score_)"
      ],
      "execution_count": 54,
      "outputs": [
        {
          "output_type": "stream",
          "text": [
            "/usr/local/lib/python3.6/dist-packages/sklearn/model_selection/_split.py:668: UserWarning: The least populated class in y has only 2 members, which is less than n_splits=5.\n",
            "  % (min_groups, self.n_splits)), UserWarning)\n"
          ],
          "name": "stderr"
        },
        {
          "output_type": "stream",
          "text": [
            "Best parameters set found on development set:  {'clf__n_neighbors': 3, 'svd__n_components': 8}\n",
            "Best score found on development set:  0.6482496194824962\n",
            "CPU times: user 1min 13s, sys: 1min 16s, total: 2min 29s\n",
            "Wall time: 1min 16s\n"
          ],
          "name": "stdout"
        }
      ]
    },
    {
      "cell_type": "code",
      "metadata": {
        "colab": {
          "base_uri": "https://localhost:8080/"
        },
        "id": "TrGzPkDYJ3ZK",
        "outputId": "5f64b512-0664-4657-d3f5-c863d299254d"
      },
      "source": [
        "%%time \r\n",
        "gs = GridSearchCV( pipeline, parameters, scoring='f1_macro')\r\n",
        "gs.fit(X_res, y_res)\r\n",
        "\r\n",
        "print(\"Best parameters set found on development set: \", gs.best_params_)\r\n",
        "print(\"Best score found on development set: \", gs.best_score_)"
      ],
      "execution_count": 55,
      "outputs": [
        {
          "output_type": "stream",
          "text": [
            "Best parameters set found on development set:  {'clf__n_neighbors': 3, 'svd__n_components': 80}\n",
            "Best score found on development set:  0.970349270432647\n",
            "CPU times: user 5min 56s, sys: 5min 21s, total: 11min 18s\n",
            "Wall time: 5min 51s\n"
          ],
          "name": "stdout"
        }
      ]
    },
    {
      "cell_type": "code",
      "metadata": {
        "colab": {
          "base_uri": "https://localhost:8080/"
        },
        "id": "LvXWOhmJjT78",
        "outputId": "74d9616e-9754-49f5-823a-6c3db2af9e79"
      },
      "source": [
        "%%time \r\n",
        "svd = TruncatedSVD(8,)\r\n",
        "X_train_ = svd.fit_transform(X_train)\r\n",
        "X_test_ = svd.transform(X_test, )\r\n",
        "clf = KNeighborsClassifier(n_neighbors=3)\r\n",
        "print(\"score on test set: \")\r\n",
        "model_evalute(clf, X_train_, test=X_test_)"
      ],
      "execution_count": 56,
      "outputs": [
        {
          "output_type": "stream",
          "text": [
            "score on test set: \n",
            "accuracy:  0.5494505494505495\n",
            "precision:  0.3498015873015873\n",
            "recall:  0.32700680272108845\n",
            "f1:  0.32193526170798903\n",
            "CPU times: user 35.3 ms, sys: 43.6 ms, total: 78.9 ms\n",
            "Wall time: 46.5 ms\n"
          ],
          "name": "stdout"
        }
      ]
    },
    {
      "cell_type": "code",
      "metadata": {
        "id": "7hhycIRKBy1r"
      },
      "source": [
        ""
      ],
      "execution_count": 68,
      "outputs": []
    },
    {
      "cell_type": "code",
      "metadata": {
        "colab": {
          "base_uri": "https://localhost:8080/"
        },
        "id": "WHiOFEeWnwpF",
        "outputId": "6962b50e-aebf-4524-ed93-fcdee5b96e81"
      },
      "source": [
        "%%time\r\n",
        "svd = TruncatedSVD(80,)\r\n",
        "X_train_ = svd.fit_transform(X_train)\r\n",
        "X_test_ = svd.transform(X_test, )\r\n",
        "X_res_, y_res_ = ros.fit_resample(X_train_, y_train)\r\n",
        "clf = KNeighborsClassifier(n_neighbors=3)\r\n",
        "print(\"score on test set: \")\r\n",
        "model_evalute(clf, X_res_, y_t= y_res_, test=X_test_)"
      ],
      "execution_count": 75,
      "outputs": [
        {
          "output_type": "stream",
          "text": [
            "score on test set: \n",
            "accuracy:  0.5934065934065934\n",
            "precision:  0.5317460317460316\n",
            "recall:  0.6343159486016628\n",
            "f1:  0.5645852051512429\n",
            "CPU times: user 82.2 ms, sys: 63.5 ms, total: 146 ms\n",
            "Wall time: 97.4 ms\n"
          ],
          "name": "stdout"
        }
      ]
    }
  ]
}